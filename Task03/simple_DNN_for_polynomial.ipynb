{
 "cells": [
  {
   "cell_type": "code",
   "execution_count": 66,
   "metadata": {},
   "outputs": [],
   "source": [
    "import numpy as np\n",
    "import matplotlib.pyplot as plt\n",
    "import torch\n",
    "import torch.nn as nn"
   ]
  },
  {
   "cell_type": "code",
   "execution_count": 67,
   "metadata": {},
   "outputs": [],
   "source": [
    "def polynomial_function(x):\n",
    "    return 5 * x**3 - 8 * x**2 - 7 * x + 1"
   ]
  },
  {
   "cell_type": "code",
   "execution_count": 68,
   "metadata": {},
   "outputs": [],
   "source": [
    "class DNN(nn.Module):\n",
    "    def __init__(self):\n",
    "        super(DNN, self).__init__()\n",
    "        self.FL1 = nn.Linear(1, 32)  # defining hidden layers\n",
    "        self.FL2 = nn.Linear(32, 64)\n",
    "        self.FL3 = nn.Linear(64, 128)\n",
    "        self.FL4 = nn.Linear(128, 1)\n",
    "\n",
    "    def forward(self, x):\n",
    "        x = torch.relu(self.FL1(x))  # initializing activation function\n",
    "        x = torch.relu(self.FL2(x))\n",
    "        x = torch.relu(self.FL3(x))\n",
    "        x = torch.relu(self.FL4(x))\n",
    "        return x"
   ]
  },
  {
   "cell_type": "code",
   "execution_count": 69,
   "metadata": {},
   "outputs": [
    {
     "data": {
      "text/plain": [
       "[<matplotlib.lines.Line2D at 0x2514316c4d0>]"
      ]
     },
     "execution_count": 69,
     "metadata": {},
     "output_type": "execute_result"
    },
    {
     "data": {
      "image/png": "[encoded data removed]",
      "text/plain": [
       "<Figure size 640x480 with 1 Axes>"
      ]
     },
     "metadata": {},
     "output_type": "display_data"
    }
   ],
   "source": [
    "x_train = torch.arange(-20, 20, 0.04)\n",
    "y_train = polynomial_function(x_train)\n",
    "\n",
    "x_train_norm = (x_train - torch.min(x_train)) / (torch.max(x_train) - torch.min(x_train)) * 2 - 1\n",
    "y_train_norm = (y_train - torch.min(y_train)) / (torch.max(y_train) - torch.min(y_train)) * 2 - 1\n",
    "\n",
    "# Split the normalized data \n",
    "train_size = int(0.9 * len(x_train))\n",
    "val_size = int(0.95 * len(x_train))\n",
    "\n",
    "x_train = x_train_norm[:train_size]\n",
    "y_train = y_train_norm[:train_size]\n",
    "\n",
    "x_val = x_train_norm[train_size:val_size]\n",
    "y_val = y_train_norm[train_size:val_size]\n",
    "\n",
    "x_test = x_train_norm[val_size:]\n",
    "y_test = y_train_norm[val_size:]\n",
    "\n",
    "# print(len(x_train))\n",
    "# print(len(x_val))\n",
    "# print(len(x_test))\n",
    "\n",
    "plt.plot(x_train, y_train)"
   ]
  },
  {
   "cell_type": "code",
   "execution_count": 70,
   "metadata": {},
   "outputs": [],
   "source": [
    "train_data = TensorDataset(x_train, y_train)\n",
    "train_data_loader = DataLoader(train_data, batch_size=32, shuffle=True)\n",
    "val_data = TensorDataset(x_val, y_val)\n",
    "val_data_loader = DataLoader(val_data, batch_size=32)\n",
    "test_data = TensorDataset(x_test, y_test)\n",
    "test_data_loader = DataLoader(test_data, batch_size=32)"
   ]
  },
  {
   "cell_type": "code",
   "execution_count": 71,
   "metadata": {},
   "outputs": [
    {
     "name": "stdout",
     "output_type": "stream",
     "text": [
      "DNN(\n",
      "  (FL1): Linear(in_features=1, out_features=32, bias=True)\n",
      "  (FL2): Linear(in_features=32, out_features=64, bias=True)\n",
      "  (FL3): Linear(in_features=64, out_features=128, bias=True)\n",
      "  (FL4): Linear(in_features=128, out_features=1, bias=True)\n",
      ")\n",
      "----------------------------------------------------------------\n",
      "        Layer (type)               Output Shape         Param #\n",
      "================================================================\n",
      "            Linear-1                   [-1, 32]              64\n",
      "            Linear-2                   [-1, 64]           2,112\n",
      "            Linear-3                  [-1, 128]           8,320\n",
      "            Linear-4                    [-1, 1]             129\n",
      "================================================================\n",
      "Total params: 10,625\n",
      "Trainable params: 10,625\n",
      "Non-trainable params: 0\n",
      "----------------------------------------------------------------\n",
      "Input size (MB): 0.00\n",
      "Forward/backward pass size (MB): 0.00\n",
      "Params size (MB): 0.04\n",
      "Estimated Total Size (MB): 0.04\n",
      "----------------------------------------------------------------\n"
     ]
    }
   ],
   "source": [
    "model = DNN()\n",
    "loss_func = nn.MSELoss()\n",
    "optimizer = optim.SGD(model.parameters(), lr=0.005)\n",
    "print(model)\n",
    "summary(model, (1,))"
   ]
  }
 ],
 "metadata": {
  "kernelspec": {
   "display_name": "Python 3",
   "language": "python",
   "name": "python3"
  },
  "language_info": {
   "codemirror_mode": {
    "name": "ipython",
    "version": 3
   },
   "file_extension": ".py",
   "mimetype": "text/x-python",
   "name": "python",
   "nbconvert_exporter": "python",
   "pygments_lexer": "ipython3",
   "version": "3.11.5"
  }
 },
 "nbformat": 4,
 "nbformat_minor": 2
}
